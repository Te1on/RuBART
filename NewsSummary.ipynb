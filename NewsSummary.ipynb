{
  "nbformat": 4,
  "nbformat_minor": 0,
  "metadata": {
    "colab": {
      "name": "NewsSummary.ipynb",
      "provenance": [],
      "toc_visible": true,
      "mount_file_id": "1gvdV23JIM5t_tsYfqBqoaaNb3v2k76fZ",
      "authorship_tag": "ABX9TyPC/zagk9ORYBjdOmgeBd0T",
      "include_colab_link": true
    },
    "kernelspec": {
      "name": "python3",
      "display_name": "Python 3"
    }
  },
  "cells": [
    {
      "cell_type": "markdown",
      "metadata": {
        "id": "view-in-github",
        "colab_type": "text"
      },
      "source": [
        "<a href=\"https://colab.research.google.com/github/Te1on/RuBART/blob/main/NewsSummary.ipynb\" target=\"_parent\"><img src=\"https://colab.research.google.com/assets/colab-badge.svg\" alt=\"Open In Colab\"/></a>"
      ]
    },
    {
      "cell_type": "markdown",
      "metadata": {
        "id": "fABEe9uAERYo"
      },
      "source": [
        "# Import dataset from kaggle"
      ]
    },
    {
      "cell_type": "code",
      "metadata": {
        "id": "Tlt6ivwMuY67"
      },
      "source": [
        "import os\n",
        "os.environ['KAGGLE_USERNAME'] = \"neuark\"\n",
        "os.environ['KAGGLE_KEY'] = \"69df6862aa557c248cf0632c599e0228\""
      ],
      "execution_count": null,
      "outputs": []
    },
    {
      "cell_type": "code",
      "metadata": {
        "id": "-qby6bXnuUVf",
        "colab": {
          "base_uri": "https://localhost:8080/",
          "height": 68
        },
        "outputId": "62f07094-4751-40f8-ac79-f3c11202947f"
      },
      "source": [
        "!kaggle datasets download yutkin/corpus-of-russian-news-articles-from-lenta"
      ],
      "execution_count": null,
      "outputs": [
        {
          "output_type": "stream",
          "text": [
            "Downloading corpus-of-russian-news-articles-from-lenta.zip to /content\n",
            " 98% 569M/584M [00:08<00:00, 81.8MB/s]\n",
            "100% 584M/584M [00:08<00:00, 72.5MB/s]\n"
          ],
          "name": "stdout"
        }
      ]
    },
    {
      "cell_type": "code",
      "metadata": {
        "id": "XcVtu20txlRI",
        "colab": {
          "base_uri": "https://localhost:8080/",
          "height": 51
        },
        "outputId": "0ba8791c-b90a-46ef-a613-22e6e97e5599"
      },
      "source": [
        "!unzip \"/content/corpus-of-russian-news-articles-from-lenta.zip\""
      ],
      "execution_count": null,
      "outputs": [
        {
          "output_type": "stream",
          "text": [
            "Archive:  /content/corpus-of-russian-news-articles-from-lenta.zip\n",
            "  inflating: lenta-ru-news.csv       \n"
          ],
          "name": "stdout"
        }
      ]
    },
    {
      "cell_type": "markdown",
      "metadata": {
        "id": "5TJ8CZ59FT71"
      },
      "source": [
        "# Install Requirements"
      ]
    },
    {
      "cell_type": "code",
      "metadata": {
        "id": "XL8qhex5FGBR",
        "colab": {
          "base_uri": "https://localhost:8080/",
          "height": 595
        },
        "outputId": "56627b3c-1b42-4513-92e8-9b3b79690842"
      },
      "source": [
        "!pip install transformers "
      ],
      "execution_count": null,
      "outputs": [
        {
          "output_type": "stream",
          "text": [
            "Collecting transformers\n",
            "\u001b[?25l  Downloading https://files.pythonhosted.org/packages/82/25/89050e69ed53c2a3b7f8c67844b3c8339c1192612ba89a172cf85b298948/transformers-3.0.1-py3-none-any.whl (757kB)\n",
            "\u001b[K     |████████████████████████████████| 757kB 2.7MB/s \n",
            "\u001b[?25hRequirement already satisfied: requests in /usr/local/lib/python3.6/dist-packages (from transformers) (2.23.0)\n",
            "Collecting tokenizers==0.8.0-rc4\n",
            "\u001b[?25l  Downloading https://files.pythonhosted.org/packages/e8/bd/e5abec46af977c8a1375c1dca7cb1e5b3ec392ef279067af7f6bc50491a0/tokenizers-0.8.0rc4-cp36-cp36m-manylinux1_x86_64.whl (3.0MB)\n",
            "\u001b[K     |████████████████████████████████| 3.0MB 9.0MB/s \n",
            "\u001b[?25hRequirement already satisfied: numpy in /usr/local/lib/python3.6/dist-packages (from transformers) (1.18.5)\n",
            "Collecting sacremoses\n",
            "\u001b[?25l  Downloading https://files.pythonhosted.org/packages/7d/34/09d19aff26edcc8eb2a01bed8e98f13a1537005d31e95233fd48216eed10/sacremoses-0.0.43.tar.gz (883kB)\n",
            "\u001b[K     |████████████████████████████████| 890kB 33.2MB/s \n",
            "\u001b[?25hRequirement already satisfied: regex!=2019.12.17 in /usr/local/lib/python3.6/dist-packages (from transformers) (2019.12.20)\n",
            "Requirement already satisfied: dataclasses; python_version < \"3.7\" in /usr/local/lib/python3.6/dist-packages (from transformers) (0.7)\n",
            "Requirement already satisfied: tqdm>=4.27 in /usr/local/lib/python3.6/dist-packages (from transformers) (4.41.1)\n",
            "Requirement already satisfied: packaging in /usr/local/lib/python3.6/dist-packages (from transformers) (20.4)\n",
            "Collecting sentencepiece!=0.1.92\n",
            "\u001b[?25l  Downloading https://files.pythonhosted.org/packages/d4/a4/d0a884c4300004a78cca907a6ff9a5e9fe4f090f5d95ab341c53d28cbc58/sentencepiece-0.1.91-cp36-cp36m-manylinux1_x86_64.whl (1.1MB)\n",
            "\u001b[K     |████████████████████████████████| 1.1MB 41.6MB/s \n",
            "\u001b[?25hRequirement already satisfied: filelock in /usr/local/lib/python3.6/dist-packages (from transformers) (3.0.12)\n",
            "Requirement already satisfied: idna<3,>=2.5 in /usr/local/lib/python3.6/dist-packages (from requests->transformers) (2.9)\n",
            "Requirement already satisfied: urllib3!=1.25.0,!=1.25.1,<1.26,>=1.21.1 in /usr/local/lib/python3.6/dist-packages (from requests->transformers) (1.24.3)\n",
            "Requirement already satisfied: certifi>=2017.4.17 in /usr/local/lib/python3.6/dist-packages (from requests->transformers) (2020.6.20)\n",
            "Requirement already satisfied: chardet<4,>=3.0.2 in /usr/local/lib/python3.6/dist-packages (from requests->transformers) (3.0.4)\n",
            "Requirement already satisfied: six in /usr/local/lib/python3.6/dist-packages (from sacremoses->transformers) (1.12.0)\n",
            "Requirement already satisfied: click in /usr/local/lib/python3.6/dist-packages (from sacremoses->transformers) (7.1.2)\n",
            "Requirement already satisfied: joblib in /usr/local/lib/python3.6/dist-packages (from sacremoses->transformers) (0.15.1)\n",
            "Requirement already satisfied: pyparsing>=2.0.2 in /usr/local/lib/python3.6/dist-packages (from packaging->transformers) (2.4.7)\n",
            "Building wheels for collected packages: sacremoses\n",
            "  Building wheel for sacremoses (setup.py) ... \u001b[?25l\u001b[?25hdone\n",
            "  Created wheel for sacremoses: filename=sacremoses-0.0.43-cp36-none-any.whl size=893260 sha256=9236785b3ab2a7e0f34872bf8f86d6e06099af0abe1ac75243733ef2e5eb89ff\n",
            "  Stored in directory: /root/.cache/pip/wheels/29/3c/fd/7ce5c3f0666dab31a50123635e6fb5e19ceb42ce38d4e58f45\n",
            "Successfully built sacremoses\n",
            "Installing collected packages: tokenizers, sacremoses, sentencepiece, transformers\n",
            "Successfully installed sacremoses-0.0.43 sentencepiece-0.1.91 tokenizers-0.8.0rc4 transformers-3.0.1\n"
          ],
          "name": "stdout"
        }
      ]
    },
    {
      "cell_type": "markdown",
      "metadata": {
        "id": "ZdXlyLhAEahf"
      },
      "source": [
        "# Main\n",
        "\n"
      ]
    },
    {
      "cell_type": "code",
      "metadata": {
        "id": "OUMeYg_sxnF2",
        "colab": {
          "base_uri": "https://localhost:8080/",
          "height": 204
        },
        "outputId": "eb12e657-8a88-41e7-f620-34abedb3d0f0"
      },
      "source": [
        "import pandas as pd\n",
        "data = pd.read_csv('/content/lenta-ru-news.csv', usecols=['title','text'], skiprows=range(1,6))\n",
        "data.head()"
      ],
      "execution_count": null,
      "outputs": [
        {
          "output_type": "execute_result",
          "data": {
            "text/html": [
              "<div>\n",
              "<style scoped>\n",
              "    .dataframe tbody tr th:only-of-type {\n",
              "        vertical-align: middle;\n",
              "    }\n",
              "\n",
              "    .dataframe tbody tr th {\n",
              "        vertical-align: top;\n",
              "    }\n",
              "\n",
              "    .dataframe thead th {\n",
              "        text-align: right;\n",
              "    }\n",
              "</style>\n",
              "<table border=\"1\" class=\"dataframe\">\n",
              "  <thead>\n",
              "    <tr style=\"text-align: right;\">\n",
              "      <th></th>\n",
              "      <th>title</th>\n",
              "      <th>text</th>\n",
              "    </tr>\n",
              "  </thead>\n",
              "  <tbody>\n",
              "    <tr>\n",
              "      <th>0</th>\n",
              "      <td>Космонавты сомневаются в надежности \"Мира\"</td>\n",
              "      <td>Как стало известно агентству Ассошиэйтед Пресс...</td>\n",
              "    </tr>\n",
              "    <tr>\n",
              "      <th>1</th>\n",
              "      <td>Взрыв в центре Москвы: пострадало 30 человек</td>\n",
              "      <td>В зале игровых автоматов в третьем ярусе подзе...</td>\n",
              "    </tr>\n",
              "    <tr>\n",
              "      <th>2</th>\n",
              "      <td>Япония кредитует Россию на полтора миллиарда д...</td>\n",
              "      <td>Япония приняла решение разморозить кредиты Рос...</td>\n",
              "    </tr>\n",
              "    <tr>\n",
              "      <th>3</th>\n",
              "      <td>Британцы отмечают двухлетие смерти Дианы</td>\n",
              "      <td>Британцы отмечают сегодня скорбную дату - втор...</td>\n",
              "    </tr>\n",
              "    <tr>\n",
              "      <th>4</th>\n",
              "      <td>Отмытые через Bank of NY деньги не имели отнош...</td>\n",
              "      <td>В понедельник директор департамента внешних св...</td>\n",
              "    </tr>\n",
              "  </tbody>\n",
              "</table>\n",
              "</div>"
            ],
            "text/plain": [
              "                                               title                                               text\n",
              "0         Космонавты сомневаются в надежности \"Мира\"  Как стало известно агентству Ассошиэйтед Пресс...\n",
              "1       Взрыв в центре Москвы: пострадало 30 человек  В зале игровых автоматов в третьем ярусе подзе...\n",
              "2  Япония кредитует Россию на полтора миллиарда д...  Япония приняла решение разморозить кредиты Рос...\n",
              "3           Британцы отмечают двухлетие смерти Дианы  Британцы отмечают сегодня скорбную дату - втор...\n",
              "4  Отмытые через Bank of NY деньги не имели отнош...  В понедельник директор департамента внешних св..."
            ]
          },
          "metadata": {
            "tags": []
          },
          "execution_count": 1
        }
      ]
    },
    {
      "cell_type": "code",
      "metadata": {
        "id": "7QsCYyG1yx2w",
        "colab": {
          "base_uri": "https://localhost:8080/",
          "height": 34
        },
        "outputId": "048c5c80-137c-4ac5-a3f3-2697e7d12401"
      },
      "source": [
        "len(data)"
      ],
      "execution_count": null,
      "outputs": [
        {
          "output_type": "execute_result",
          "data": {
            "text/plain": [
              "800970"
            ]
          },
          "metadata": {
            "tags": []
          },
          "execution_count": 2
        }
      ]
    },
    {
      "cell_type": "code",
      "metadata": {
        "id": "IARrwKaNyXop"
      },
      "source": [
        "with open('news-text.txt','w') as f:\n",
        "    for x in data['text']:\n",
        "        f.write(str(x))"
      ],
      "execution_count": null,
      "outputs": []
    },
    {
      "cell_type": "code",
      "metadata": {
        "id": "FRFgXnJhLvPK"
      },
      "source": [
        "import numpy as np\n",
        "pool = 100\n",
        "bk = int(np.ceil(len(data)/pool))\n",
        "for i in range(pool):\n",
        "    filename = \"/content/drive/My Drive/RuBART/texts/news-texts[\" + str(i) + \"].txt\"\n",
        "    with open(filename,'w') as f:\n",
        "        for text in data['text'][i:i+bk]:\n",
        "            f.write(str(text) + '\\n')"
      ],
      "execution_count": null,
      "outputs": []
    },
    {
      "cell_type": "markdown",
      "metadata": {
        "id": "WNdjfpnv6XgO"
      },
      "source": [
        "Training tokenizer"
      ]
    },
    {
      "cell_type": "code",
      "metadata": {
        "id": "Mpsiwmqd1dlx",
        "colab": {
          "base_uri": "https://localhost:8080/",
          "height": 34
        },
        "outputId": "fde3970e-ccd7-484c-e6c2-ab6e30e2ad6c"
      },
      "source": [
        "import torch\n",
        "\n",
        "from transformers import BartTokenizer, BartForConditionalGeneration\n",
        "from IPython.display import display, Markdown\n",
        "\n",
        "torch_device = 'cuda' if torch.cuda.is_available() else 'cpu'\n",
        "print(torch_device)"
      ],
      "execution_count": null,
      "outputs": [
        {
          "output_type": "stream",
          "text": [
            "cuda\n"
          ],
          "name": "stdout"
        }
      ]
    },
    {
      "cell_type": "code",
      "metadata": {
        "id": "o2RAlEqoJlBU"
      },
      "source": [
        "from tokenizers import ByteLevelBPETokenizer\n",
        "tokenizer = ByteLevelBPETokenizer()\n",
        "\n",
        "# Customize training\n",
        "tokenizer.train(files='/content/news-text.txt', show_progress=True, vocab_size=80000, min_frequency=2, special_tokens=[\n",
        "    \"<s>\",\n",
        "    \"<pad>\",\n",
        "    \"</s>\",\n",
        "    \"<unk>\",\n",
        "    \"<mask>\"\n",
        "])"
      ],
      "execution_count": null,
      "outputs": []
    },
    {
      "cell_type": "code",
      "metadata": {
        "id": "ElwscZkvHZ2B",
        "colab": {
          "base_uri": "https://localhost:8080/",
          "height": 50
        },
        "outputId": "81c6c168-7751-4b9e-a9e7-0d72f1e077ca"
      },
      "source": [
        "tokenizer.save_model('/content/drive/My Drive/RuBART/RuBART-Lenta')"
      ],
      "execution_count": null,
      "outputs": [
        {
          "output_type": "execute_result",
          "data": {
            "text/plain": [
              "['/content/drive/My Drive/RuBART/RuBART-Lenta/vocab.json',\n",
              " '/content/drive/My Drive/RuBART/RuBART-Lenta/merges.txt']"
            ]
          },
          "metadata": {
            "tags": []
          },
          "execution_count": 18
        }
      ]
    },
    {
      "cell_type": "markdown",
      "metadata": {
        "id": "y_qRk3_F57iV"
      },
      "source": [
        "Shorten text news - 256 token max"
      ]
    },
    {
      "cell_type": "code",
      "metadata": {
        "id": "b1LGjWmCzSeo"
      },
      "source": [
        "mask = []\n",
        "for text in data['text']:\n",
        "    mask.append(len(tokenizer(str(text)).input_ids) <= 256)"
      ],
      "execution_count": null,
      "outputs": []
    },
    {
      "cell_type": "code",
      "metadata": {
        "id": "Ke03R33e4oG6",
        "colab": {
          "base_uri": "https://localhost:8080/",
          "height": 34
        },
        "outputId": "3e3feb35-2996-421c-882f-613a7018da13"
      },
      "source": [
        "len(mask)"
      ],
      "execution_count": null,
      "outputs": [
        {
          "output_type": "execute_result",
          "data": {
            "text/plain": [
              "800970"
            ]
          },
          "metadata": {
            "tags": []
          },
          "execution_count": 7
        }
      ]
    },
    {
      "cell_type": "code",
      "metadata": {
        "id": "OgMuCpIz4sSx",
        "colab": {
          "base_uri": "https://localhost:8080/",
          "height": 68
        },
        "outputId": "cf20ee99-153f-441f-b37c-bc0257df9e6f"
      },
      "source": [
        "pd.Series(mask).value_counts()"
      ],
      "execution_count": null,
      "outputs": [
        {
          "output_type": "execute_result",
          "data": {
            "text/plain": [
              "True     491675\n",
              "False    309295\n",
              "dtype: int64"
            ]
          },
          "metadata": {
            "tags": []
          },
          "execution_count": 8
        }
      ]
    },
    {
      "cell_type": "code",
      "metadata": {
        "id": "zzO2imMO1llw"
      },
      "source": [
        "short_data = data.loc[mask]"
      ],
      "execution_count": null,
      "outputs": []
    },
    {
      "cell_type": "code",
      "metadata": {
        "id": "eM1xUqQS5Cr4",
        "colab": {
          "base_uri": "https://localhost:8080/",
          "height": 34
        },
        "outputId": "d9bc487c-5e3d-40a4-bdd7-dc08f440121f"
      },
      "source": [
        "len(short_data)"
      ],
      "execution_count": null,
      "outputs": [
        {
          "output_type": "execute_result",
          "data": {
            "text/plain": [
              "491675"
            ]
          },
          "metadata": {
            "tags": []
          },
          "execution_count": 10
        }
      ]
    },
    {
      "cell_type": "code",
      "metadata": {
        "id": "Je27L4lQ5J5I"
      },
      "source": [
        "short_data.to_csv(\"/content/drive/My Drive/RuBART/news-short.csv\", index=False)"
      ],
      "execution_count": null,
      "outputs": []
    },
    {
      "cell_type": "markdown",
      "metadata": {
        "id": "DNBN7Duy6gJW"
      },
      "source": [
        "Training BART model"
      ]
    },
    {
      "cell_type": "code",
      "metadata": {
        "id": "SsteV0LTwywp"
      },
      "source": [
        "from transformers import BartTokenizerFast\n",
        "tokenizer = BartTokenizerFast.from_pretrained(\"/content/drive/My Drive/RuBART/RuBART-Lenta\")"
      ],
      "execution_count": null,
      "outputs": []
    },
    {
      "cell_type": "code",
      "metadata": {
        "id": "7MUBN7ovNt7L",
        "colab": {
          "base_uri": "https://localhost:8080/",
          "height": 204
        },
        "outputId": "360f420a-b615-4b0f-d338-da46d9dc0fb1"
      },
      "source": [
        "a = tokenizer(\"Съешь ещё этих мягких французских булочек\")\n",
        "for i in a.input_ids:\n",
        "    print(tokenizer.decode([i]))"
      ],
      "execution_count": null,
      "outputs": [
        {
          "output_type": "stream",
          "text": [
            "<s>\n",
            "С\n",
            "ъ\n",
            "ешь\n",
            " ещё\n",
            " этих\n",
            " мягких\n",
            " французских\n",
            " бул\n",
            "очек\n",
            "</s>\n"
          ],
          "name": "stdout"
        }
      ]
    },
    {
      "cell_type": "code",
      "metadata": {
        "id": "q9JiZmnRwRI4"
      },
      "source": [
        "from transformers import BartConfig\n",
        "\n",
        "config = BartConfig(\n",
        "    vocab_size=80000,\n",
        "    ctivation_dropout=0.0,\n",
        "    extra_pos_embeddings=2,\n",
        "    activation_function=\"gelu\",\n",
        "    d_model=768,\n",
        "    encoder_ffn_dim=768,\n",
        "    encoder_layers=12,\n",
        "    encoder_attention_heads=12,\n",
        "    decoder_ffn_dim=768,\n",
        "    decoder_layers=12,\n",
        "    decoder_attention_heads=16,\n",
        "    encoder_layerdrop=0.0,\n",
        "    decoder_layerdrop=0.0,\n",
        "    attention_dropout=0.0,\n",
        "    dropout=0.1,\n",
        "    max_position_embeddings=256,\n",
        "    init_std=0.02,\n",
        "    is_encoder_decoder=True,\n",
        "    normalize_before=False,\n",
        "    add_final_layer_norm=False,\n",
        "    scale_embedding=False,\n",
        "    normalize_embedding=True,\n",
        "    static_position_embeddings=False,\n",
        "    add_bias_logits=False,\n",
        ")"
      ],
      "execution_count": null,
      "outputs": []
    },
    {
      "cell_type": "code",
      "metadata": {
        "id": "8UsRgZ7UxNHo"
      },
      "source": [
        "from transformers import BartForConditionalGeneration\n",
        "\n",
        "model = BartForConditionalGeneration(config=config)"
      ],
      "execution_count": null,
      "outputs": []
    },
    {
      "cell_type": "code",
      "metadata": {
        "id": "XE2ncjDjxnu_"
      },
      "source": [
        "%%time\n",
        "from transformers import LineByLineTextDataset\n",
        "\n",
        "dataset = LineByLineTextDataset(\n",
        "    tokenizer=tokenizer,\n",
        "    file_path=\"/content/drive/My Drive/RuBART/news-short.csv\",\n",
        "    block_size=256\n",
        ")"
      ],
      "execution_count": null,
      "outputs": []
    },
    {
      "cell_type": "code",
      "metadata": {
        "id": "MouMV-w0kvMZ"
      },
      "source": [
        "tokenized = list(map(lambda x: tokenizer(str(x)).input_ids, data['text']))\n",
        "tokens_length = list(map(lambda x: len(x), tokenized))"
      ],
      "execution_count": null,
      "outputs": []
    },
    {
      "cell_type": "code",
      "metadata": {
        "id": "4YIPRWs_cv1J",
        "colab": {
          "base_uri": "https://localhost:8080/",
          "height": 170
        },
        "outputId": "e3576b14-0946-451a-85d4-0de7f5399818"
      },
      "source": [
        "pd.Series(ar_len).describe()"
      ],
      "execution_count": null,
      "outputs": [
        {
          "output_type": "execute_result",
          "data": {
            "text/plain": [
              "count    8105.000000\n",
              "mean      209.467859\n",
              "std       100.314393\n",
              "min         4.000000\n",
              "25%       137.000000\n",
              "50%       191.000000\n",
              "75%       259.000000\n",
              "max       512.000000\n",
              "dtype: float64"
            ]
          },
          "metadata": {
            "tags": []
          },
          "execution_count": 93
        }
      ]
    },
    {
      "cell_type": "code",
      "metadata": {
        "id": "m8WSmmDYRXCe",
        "colab": {
          "base_uri": "https://localhost:8080/",
          "height": 476
        },
        "outputId": "20549e03-e0a0-4088-fd3e-cdd1a4b98614"
      },
      "source": [
        "dataset[0]"
      ],
      "execution_count": null,
      "outputs": [
        {
          "output_type": "execute_result",
          "data": {
            "text/plain": [
              "tensor([    0,  7088,  1610,  1834,  4487,  6467, 78407,  3369,  8125,  8981,\n",
              "           16,  3780,  9102, 15791,   309, 15483,   375, 12876,     6,  2395,\n",
              "          938, 47738,  5888,   389,    17,  2224,  6925,    18, 75742,  3428,\n",
              "        53861,  1515,    30,   375,  2774,  5465, 49506,  1858,  6401,    16,\n",
              "          948, 44206,   362,    16,   373, 16568, 15483, 26367,   281,  6674,\n",
              "          507,  6349,  9084, 41562, 31691, 22520, 15364,   290,   825,    16,\n",
              "          373,  9193,  2794,   375, 12876,     6, 19681,    16,   948, 79776,\n",
              "          349, 75896,  2814,   457,   938,   281, 27480, 18131,    16, 54426,\n",
              "          309, 38823,   616, 60378,  2460,    18, 12790, 12524,    16,   373,\n",
              "         2543, 64913, 37837, 55079,   309,   375, 12876,     6,   281,  3442,\n",
              "         1131,  3145,  4183,   488,    18, 10178, 41337,  2690, 11287, 15949,\n",
              "        15483,   309, 37849, 11285,    16,   767,  2446, 11658,    17,  2811,\n",
              "          470,   375, 12876,     6,   281,  5240,   284, 19889,   281, 21354,\n",
              "           16,   347, 26635,   553,  2197, 73000,   281, 49833, 14564,    18,\n",
              "         3515,  1823, 11449, 16171,    16,   373, 11259,  6739, 10982, 56034,\n",
              "         8048, 35983,  5176,   298,  1858, 51822, 50500,    18, 53861, 35079,\n",
              "        22929, 26577, 16105,   375, 43820,     6,   309,  1142,    17,  6598,\n",
              "           16, 22005,   281,  2141,   281, 33830,   507, 16335,   617,    18,\n",
              "          375, 41431, 41096,  9265,   281, 31085,    16,    17,  1515,   610,\n",
              "           16,    17,   296,   856,  2758, 21387, 34067,   575,  1917, 11670,\n",
              "        15791,    18,   368,  5324, 40973,  3857,   375, 44359,   504, 47682,\n",
              "            6, 16896, 17517, 49118, 18414,  1079,  7485,   563,   302, 37020,\n",
              "         6044,    16,   486,   296,   302, 37020, 24249,  9084, 42453, 30833,\n",
              "         1561,   377,  2048, 73157,  1967,   296,  2647,  9283,  5663,  1145,\n",
              "        57054,   596, 13129,   457,   375, 12876,   584,   347,   553, 15415,\n",
              "        15949,   309, 25176, 36989, 15483,    18,  3515,  1930,   349,  5991,\n",
              "        77509,   284, 19841,   451, 26631,    18,     2])"
            ]
          },
          "metadata": {
            "tags": []
          },
          "execution_count": 50
        }
      ]
    },
    {
      "cell_type": "code",
      "metadata": {
        "id": "Oaj1-BOqRk4w",
        "colab": {
          "base_uri": "https://localhost:8080/",
          "height": 54
        },
        "outputId": "48e87797-f0e7-4be3-f34b-47813d8f3b78"
      },
      "source": [
        "print(tokenizer.decode(list(dataset[5])))"
      ],
      "execution_count": null,
      "outputs": [
        {
          "output_type": "stream",
          "text": [
            "<s>С 1 сентября на всей территории России вводится новая форма таможенной декларации для физических лиц. Как пояснили в Государственном таможенном комитете (ГТК), форма декларации, которая была одобрена Советом руководителей таможенных служб государств-участников Содружества, является единой на территории всех стран СНГ, за исключением Армении. По данным ИТАР-ТАСС, в новой декларации содержится более подробный перечень товаров, подлежащих обязательному декларированию. Так, впервые в их число включены ядовитые и сильно действующие вещества и лекарства, радиоактивные материалы, объекты флоры и фауны, а также высокочастотные радио-электронные устройства и средства связи - в частности, системы радиолокации, кабельного телевидения и средства мобильной связи частотой выше 9 килогерц. Кроме того, в декларации будет необходимо приводить более подробные сведения о ввозимом или вывозимом транспортном средстве - вид машинs, год выпуска, объем двигателя, номера двигателя, кузова и шасси. В России новая форма декларации наряду с прежней применялась с 1 августа лишь на московских таможенных пунктах: Шереметьево, во Внуково, в Домодедово, Чкаловском и на железнодорожных вокзалах. Теперь она вводится на всей территории страны. Преимуществом новой декларации, пояснили в ГТК, является то, что она будет единой на территории 11 государств СНГ, подписавших соглашение, к которому пока не присоединилась лишь Армения, но с ней \"сейчас ведутся конструктивные переговоры\". Новая таможенная декларация уже вступила в силу на территории Украины и Белоруссии, другие государства СНГ заявили о своей готовности ввести ее на своей территории до концатекущего года.</s>\n"
          ],
          "name": "stdout"
        }
      ]
    },
    {
      "cell_type": "code",
      "metadata": {
        "id": "isNcM1lxR3Sx",
        "colab": {
          "base_uri": "https://localhost:8080/",
          "height": 170
        },
        "outputId": "8d679c03-7ad3-4643-f319-d7ea4d1a3c25"
      },
      "source": [
        "import pandas as pd\n",
        "import numpy as np\n",
        "ar_len = [len(sent) for sent in dataset]\n",
        "pd.Series(ar_len).describe()"
      ],
      "execution_count": null,
      "outputs": [
        {
          "output_type": "execute_result",
          "data": {
            "text/plain": [
              "count    8105.000000\n",
              "mean      209.466872\n",
              "std       100.313788\n",
              "min         4.000000\n",
              "25%       137.000000\n",
              "50%       191.000000\n",
              "75%       259.000000\n",
              "max       512.000000\n",
              "dtype: float64"
            ]
          },
          "metadata": {
            "tags": []
          },
          "execution_count": 60
        }
      ]
    },
    {
      "cell_type": "code",
      "metadata": {
        "id": "H4fUudg7Satj",
        "colab": {
          "base_uri": "https://localhost:8080/",
          "height": 34
        },
        "outputId": "6d421c20-ac4d-4cc4-f711-661726488ded"
      },
      "source": [
        "np.quantile(ar_len,0.98)"
      ],
      "execution_count": null,
      "outputs": [
        {
          "output_type": "execute_result",
          "data": {
            "text/plain": [
              "505.9200000000001"
            ]
          },
          "metadata": {
            "tags": []
          },
          "execution_count": 102
        }
      ]
    },
    {
      "cell_type": "code",
      "metadata": {
        "id": "hNevPNzCxzKW"
      },
      "source": [
        "from transformers import DataCollatorForLanguageModeling\n",
        "\n",
        "data_collator = DataCollatorForLanguageModeling(\n",
        "    tokenizer=tokenizer, mlm=True, mlm_probability=0.15\n",
        ")"
      ],
      "execution_count": null,
      "outputs": []
    },
    {
      "cell_type": "code",
      "metadata": {
        "id": "onUwBAs3x0cn"
      },
      "source": [
        "from transformers import Trainer, TrainingArguments\n",
        "\n",
        "training_args = TrainingArguments(\n",
        "    output_dir=\"/content/RuBART-Lenta\",\n",
        "    overwrite_output_dir=True,\n",
        "    num_train_epochs=1,\n",
        "    per_gpu_train_batch_size=8,\n",
        "    save_steps=10_000,\n",
        "    save_total_limit=2,\n",
        ")\n",
        "\n",
        "trainer = Trainer(\n",
        "    model=model,\n",
        "    args=training_args,\n",
        "    data_collator=data_collator,\n",
        "    train_dataset=dataset,\n",
        "    prediction_loss_only=True,\n",
        ")"
      ],
      "execution_count": null,
      "outputs": []
    },
    {
      "cell_type": "code",
      "metadata": {
        "id": "Db35MzSRx1te"
      },
      "source": [
        "trainer.train()"
      ],
      "execution_count": null,
      "outputs": []
    },
    {
      "cell_type": "code",
      "metadata": {
        "id": "d3MPU8IEx4dH"
      },
      "source": [
        "trainer.save_model(\"/content/drive/My Drive/RuBART/RuBART-Lenta\")"
      ],
      "execution_count": null,
      "outputs": []
    },
    {
      "cell_type": "markdown",
      "metadata": {
        "id": "vtVA1quTnhe9"
      },
      "source": [
        "Cheking model"
      ]
    },
    {
      "cell_type": "code",
      "metadata": {
        "id": "Kvjb82cax68O"
      },
      "source": [
        "from transformers import pipeline\n",
        "\n",
        "summarizer = pipeline(\n",
        "    \"summarization\",\n",
        "    model=\"/content/drive/My Drive/RuBART/RuBART-Lenta\",\n",
        "    tokenizer=\"/content/drive/My Drive/RuBART/RuBART-Lenta\",\n",
        ")"
      ],
      "execution_count": null,
      "outputs": []
    },
    {
      "cell_type": "code",
      "metadata": {
        "id": "yLefVw9Px804"
      },
      "source": [
        "summarizer(\"\"\"ЦИК обработал 100% протоколов. Против поправок выступили 21,27% россиян. \n",
        "Поправки к Конституции РФ на общероссийском голосовании поддержали 77,92% проголосовавших, следует из данных Центральной избирательной комиссии (ЦИК) РФ по итогам обработки 100% протоколов.\n",
        "Согласно данным, опубликованным на экране в информационном центре ЦИК, против поправок к конституции выступили 21,27% проголосовавших. \n",
        "Общая явка, по последним данным, составила 65%.\n",
        "Общероссийское голосование по поправкам к Конституции РФ завершилось на всей территории России в 21:00 мск в среду. \n",
        "\"\"\")"
      ],
      "execution_count": null,
      "outputs": []
    }
  ]
}