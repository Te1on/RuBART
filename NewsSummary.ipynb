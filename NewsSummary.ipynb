{
  "nbformat": 4,
  "nbformat_minor": 0,
  "metadata": {
    "colab": {
      "name": "NewsSummary.ipynb",
      "provenance": [],
      "toc_visible": true
    },
    "kernelspec": {
      "name": "python3",
      "display_name": "Python 3"
    }
  },
  "cells": [
    {
      "cell_type": "markdown",
      "metadata": {
        "id": "fABEe9uAERYo"
      },
      "source": [
        "# Import dataset from kaggle"
      ]
    },
    {
      "cell_type": "code",
      "metadata": {
        "id": "-qby6bXnuUVf",
        "colab": {
          "base_uri": "https://localhost:8080/",
          "height": 68
        },
        "outputId": "62f07094-4751-40f8-ac79-f3c11202947f"
      },
      "source": [
        "!kaggle datasets download yutkin/corpus-of-russian-news-articles-from-lenta"
      ],
      "execution_count": null,
      "outputs": [
        {
          "output_type": "stream",
          "text": [
            "Downloading corpus-of-russian-news-articles-from-lenta.zip to /content\n",
            " 98% 569M/584M [00:08<00:00, 81.8MB/s]\n",
            "100% 584M/584M [00:08<00:00, 72.5MB/s]\n"
          ],
          "name": "stdout"
        }
      ]
    },
    {
      "cell_type": "code",
      "metadata": {
        "id": "XcVtu20txlRI",
        "colab": {
          "base_uri": "https://localhost:8080/",
          "height": 51
        },
        "outputId": "0ba8791c-b90a-46ef-a613-22e6e97e5599"
      },
      "source": [
        "!unzip \"/content/corpus-of-russian-news-articles-from-lenta.zip\""
      ],
      "execution_count": null,
      "outputs": [
        {
          "output_type": "stream",
          "text": [
            "Archive:  /content/corpus-of-russian-news-articles-from-lenta.zip\n",
            "  inflating: lenta-ru-news.csv       \n"
          ],
          "name": "stdout"
        }
      ]
    },
    {
      "cell_type": "markdown",
      "metadata": {
        "id": "5TJ8CZ59FT71"
      },
      "source": [
        "# Install Requirements"
      ]
    },
    {
      "cell_type": "code",
      "metadata": {
        "id": "XL8qhex5FGBR",
        "colab": {
          "base_uri": "https://localhost:8080/",
          "height": 595
        },
        "outputId": "56627b3c-1b42-4513-92e8-9b3b79690842"
      },
      "source": [
        "!pip install transformers "
      ],
      "execution_count": null,
      "outputs": [
        {
          "output_type": "stream",
          "text": [
            "Collecting transformers\n",
            "\u001b[?25l  Downloading https://files.pythonhosted.org/packages/82/25/89050e69ed53c2a3b7f8c67844b3c8339c1192612ba89a172cf85b298948/transformers-3.0.1-py3-none-any.whl (757kB)\n",
            "\u001b[K     |████████████████████████████████| 757kB 2.7MB/s \n",
            "\u001b[?25hRequirement already satisfied: requests in /usr/local/lib/python3.6/dist-packages (from transformers) (2.23.0)\n",
            "Collecting tokenizers==0.8.0-rc4\n",
            "\u001b[?25l  Downloading https://files.pythonhosted.org/packages/e8/bd/e5abec46af977c8a1375c1dca7cb1e5b3ec392ef279067af7f6bc50491a0/tokenizers-0.8.0rc4-cp36-cp36m-manylinux1_x86_64.whl (3.0MB)\n",
            "\u001b[K     |████████████████████████████████| 3.0MB 9.0MB/s \n",
            "\u001b[?25hRequirement already satisfied: numpy in /usr/local/lib/python3.6/dist-packages (from transformers) (1.18.5)\n",
            "Collecting sacremoses\n",
            "\u001b[?25l  Downloading https://files.pythonhosted.org/packages/7d/34/09d19aff26edcc8eb2a01bed8e98f13a1537005d31e95233fd48216eed10/sacremoses-0.0.43.tar.gz (883kB)\n",
            "\u001b[K     |████████████████████████████████| 890kB 33.2MB/s \n",
            "\u001b[?25hRequirement already satisfied: regex!=2019.12.17 in /usr/local/lib/python3.6/dist-packages (from transformers) (2019.12.20)\n",
            "Requirement already satisfied: dataclasses; python_version < \"3.7\" in /usr/local/lib/python3.6/dist-packages (from transformers) (0.7)\n",
            "Requirement already satisfied: tqdm>=4.27 in /usr/local/lib/python3.6/dist-packages (from transformers) (4.41.1)\n",
            "Requirement already satisfied: packaging in /usr/local/lib/python3.6/dist-packages (from transformers) (20.4)\n",
            "Collecting sentencepiece!=0.1.92\n",
            "\u001b[?25l  Downloading https://files.pythonhosted.org/packages/d4/a4/d0a884c4300004a78cca907a6ff9a5e9fe4f090f5d95ab341c53d28cbc58/sentencepiece-0.1.91-cp36-cp36m-manylinux1_x86_64.whl (1.1MB)\n",
            "\u001b[K     |████████████████████████████████| 1.1MB 41.6MB/s \n",
            "\u001b[?25hRequirement already satisfied: filelock in /usr/local/lib/python3.6/dist-packages (from transformers) (3.0.12)\n",
            "Requirement already satisfied: idna<3,>=2.5 in /usr/local/lib/python3.6/dist-packages (from requests->transformers) (2.9)\n",
            "Requirement already satisfied: urllib3!=1.25.0,!=1.25.1,<1.26,>=1.21.1 in /usr/local/lib/python3.6/dist-packages (from requests->transformers) (1.24.3)\n",
            "Requirement already satisfied: certifi>=2017.4.17 in /usr/local/lib/python3.6/dist-packages (from requests->transformers) (2020.6.20)\n",
            "Requirement already satisfied: chardet<4,>=3.0.2 in /usr/local/lib/python3.6/dist-packages (from requests->transformers) (3.0.4)\n",
            "Requirement already satisfied: six in /usr/local/lib/python3.6/dist-packages (from sacremoses->transformers) (1.12.0)\n",
            "Requirement already satisfied: click in /usr/local/lib/python3.6/dist-packages (from sacremoses->transformers) (7.1.2)\n",
            "Requirement already satisfied: joblib in /usr/local/lib/python3.6/dist-packages (from sacremoses->transformers) (0.15.1)\n",
            "Requirement already satisfied: pyparsing>=2.0.2 in /usr/local/lib/python3.6/dist-packages (from packaging->transformers) (2.4.7)\n",
            "Building wheels for collected packages: sacremoses\n",
            "  Building wheel for sacremoses (setup.py) ... \u001b[?25l\u001b[?25hdone\n",
            "  Created wheel for sacremoses: filename=sacremoses-0.0.43-cp36-none-any.whl size=893260 sha256=9236785b3ab2a7e0f34872bf8f86d6e06099af0abe1ac75243733ef2e5eb89ff\n",
            "  Stored in directory: /root/.cache/pip/wheels/29/3c/fd/7ce5c3f0666dab31a50123635e6fb5e19ceb42ce38d4e58f45\n",
            "Successfully built sacremoses\n",
            "Installing collected packages: tokenizers, sacremoses, sentencepiece, transformers\n",
            "Successfully installed sacremoses-0.0.43 sentencepiece-0.1.91 tokenizers-0.8.0rc4 transformers-3.0.1\n"
          ],
          "name": "stdout"
        }
      ]
    },
    {
      "cell_type": "markdown",
      "metadata": {
        "id": "ZdXlyLhAEahf"
      },
      "source": [
        "# Main\n",
        "\n"
      ]
    },
    {
      "cell_type": "code",
      "metadata": {
        "id": "OUMeYg_sxnF2",
        "colab": {
          "base_uri": "https://localhost:8080/",
          "height": 204
        },
        "outputId": "eb12e657-8a88-41e7-f620-34abedb3d0f0"
      },
      "source": [
        "import pandas as pd\n",
        "data = pd.read_csv('/content/lenta-ru-news.csv', usecols=['title','text'], skiprows=range(1,6))\n",
        "data.head()"
      ],
      "execution_count": null,
      "outputs": [
        {
          "output_type": "execute_result",
          "data": {
            "text/html": [
              "<div>\n",
              "<style scoped>\n",
              "    .dataframe tbody tr th:only-of-type {\n",
              "        vertical-align: middle;\n",
              "    }\n",
              "\n",
              "    .dataframe tbody tr th {\n",
              "        vertical-align: top;\n",
              "    }\n",
              "\n",
              "    .dataframe thead th {\n",
              "        text-align: right;\n",
              "    }\n",
              "</style>\n",
              "<table border=\"1\" class=\"dataframe\">\n",
              "  <thead>\n",
              "    <tr style=\"text-align: right;\">\n",
              "      <th></th>\n",
              "      <th>title</th>\n",
              "      <th>text</th>\n",
              "    </tr>\n",
              "  </thead>\n",
              "  <tbody>\n",
              "    <tr>\n",
              "      <th>0</th>\n",
              "      <td>Космонавты сомневаются в надежности \"Мира\"</td>\n",
              "      <td>Как стало известно агентству Ассошиэйтед Пресс...</td>\n",
              "    </tr>\n",
              "    <tr>\n",
              "      <th>1</th>\n",
              "      <td>Взрыв в центре Москвы: пострадало 30 человек</td>\n",
              "      <td>В зале игровых автоматов в третьем ярусе подзе...</td>\n",
              "    </tr>\n",
              "    <tr>\n",
              "      <th>2</th>\n",
              "      <td>Япония кредитует Россию на полтора миллиарда д...</td>\n",
              "      <td>Япония приняла решение разморозить кредиты Рос...</td>\n",
              "    </tr>\n",
              "    <tr>\n",
              "      <th>3</th>\n",
              "      <td>Британцы отмечают двухлетие смерти Дианы</td>\n",
              "      <td>Британцы отмечают сегодня скорбную дату - втор...</td>\n",
              "    </tr>\n",
              "    <tr>\n",
              "      <th>4</th>\n",
              "      <td>Отмытые через Bank of NY деньги не имели отнош...</td>\n",
              "      <td>В понедельник директор департамента внешних св...</td>\n",
              "    </tr>\n",
              "  </tbody>\n",
              "</table>\n",
              "</div>"
            ],
            "text/plain": [
              "                                               title                                               text\n",
              "0         Космонавты сомневаются в надежности \"Мира\"  Как стало известно агентству Ассошиэйтед Пресс...\n",
              "1       Взрыв в центре Москвы: пострадало 30 человек  В зале игровых автоматов в третьем ярусе подзе...\n",
              "2  Япония кредитует Россию на полтора миллиарда д...  Япония приняла решение разморозить кредиты Рос...\n",
              "3           Британцы отмечают двухлетие смерти Дианы  Британцы отмечают сегодня скорбную дату - втор...\n",
              "4  Отмытые через Bank of NY деньги не имели отнош...  В понедельник директор департамента внешних св..."
            ]
          },
          "metadata": {
            "tags": []
          },
          "execution_count": 1
        }
      ]
    },
    {
      "cell_type": "code",
      "metadata": {
        "id": "7QsCYyG1yx2w",
        "colab": {
          "base_uri": "https://localhost:8080/",
          "height": 34
        },
        "outputId": "048c5c80-137c-4ac5-a3f3-2697e7d12401"
      },
      "source": [
        "len(data)"
      ],
      "execution_count": null,
      "outputs": [
        {
          "output_type": "execute_result",
          "data": {
            "text/plain": [
              "800970"
            ]
          },
          "metadata": {
            "tags": []
          },
          "execution_count": 2
        }
      ]
    },
    {
      "cell_type": "code",
      "metadata": {
        "id": "IARrwKaNyXop"
      },
      "source": [
        "with open('news-text.txt','w') as f:\n",
        "    for x in data['text']:\n",
        "        f.write(str(x))"
      ],
      "execution_count": null,
      "outputs": []
    },
    {
      "cell_type": "code",
      "metadata": {
        "id": "FRFgXnJhLvPK"
      },
      "source": [
        "import numpy as np\n",
        "pool = 100\n",
        "bk = int(np.ceil(len(data)/pool))\n",
        "for i in range(pool):\n",
        "    filename = \"/content/drive/My Drive/RuBART/texts/news-texts[\" + str(i) + \"].txt\"\n",
        "    with open(filename,'w') as f:\n",
        "        for text in data['text'][i:i+bk]:\n",
        "            f.write(str(text) + '\\n')"
      ],
      "execution_count": null,
      "outputs": []
    },
    {
      "cell_type": "markdown",
      "metadata": {
        "id": "WNdjfpnv6XgO"
      },
      "source": [
        "Training tokenizer"
      ]
    },
    {
      "cell_type": "code",
      "metadata": {
        "id": "Mpsiwmqd1dlx",
        "colab": {
          "base_uri": "https://localhost:8080/",
          "height": 34
        },
        "outputId": "fde3970e-ccd7-484c-e6c2-ab6e30e2ad6c"
      },
      "source": [
        "import torch\n",
        "\n",
        "from transformers import BartTokenizer, BartForConditionalGeneration\n",
        "from IPython.display import display, Markdown\n",
        "\n",
        "torch_device = 'cuda' if torch.cuda.is_available() else 'cpu'\n",
        "print(torch_device)"
      ],
      "execution_count": null,
      "outputs": [
        {
          "output_type": "stream",
          "text": [
            "cuda\n"
          ],
          "name": "stdout"
        }
      ]
    },
    {
      "cell_type": "code",
      "metadata": {
        "id": "o2RAlEqoJlBU"
      },
      "source": [
        "from tokenizers import ByteLevelBPETokenizer\n",
        "tokenizer = ByteLevelBPETokenizer()\n",
        "\n",
        "# Customize training\n",
        "tokenizer.train(files='/content/news-text.txt', show_progress=True, vocab_size=80000, min_frequency=2, special_tokens=[\n",
        "    \"<s>\",\n",
        "    \"<pad>\",\n",
        "    \"</s>\",\n",
        "    \"<unk>\",\n",
        "    \"<mask>\"\n",
        "])"
      ],
      "execution_count": null,
      "outputs": []
    },
    {
      "cell_type": "code",
      "metadata": {
        "id": "ElwscZkvHZ2B",
        "colab": {
          "base_uri": "https://localhost:8080/",
          "height": 50
        },
        "outputId": "81c6c168-7751-4b9e-a9e7-0d72f1e077ca"
      },
      "source": [
        "tokenizer.save_model('/content/drive/My Drive/RuBART/RuBART-Lenta')"
      ],
      "execution_count": null,
      "outputs": [
        {
          "output_type": "execute_result",
          "data": {
            "text/plain": [
              "['/content/drive/My Drive/RuBART/RuBART-Lenta/vocab.json',\n",
              " '/content/drive/My Drive/RuBART/RuBART-Lenta/merges.txt']"
            ]
          },
          "metadata": {
            "tags": []
          },
          "execution_count": 18
        }
      ]
    },
    {
      "cell_type": "markdown",
      "metadata": {
        "id": "y_qRk3_F57iV"
      },
      "source": [
        "Shorten text news - 256 token max"
      ]
    },
    {
      "cell_type": "code",
      "metadata": {
        "id": "b1LGjWmCzSeo"
      },
      "source": [
        "mask = []\n",
        "for text in data['text']:\n",
        "    mask.append(len(tokenizer(str(text)).input_ids) <= 256)"
      ],
      "execution_count": null,
      "outputs": []
    },
    {
      "cell_type": "code",
      "metadata": {
        "id": "Ke03R33e4oG6",
        "colab": {
          "base_uri": "https://localhost:8080/",
          "height": 34
        },
        "outputId": "3e3feb35-2996-421c-882f-613a7018da13"
      },
      "source": [
        "len(mask)"
      ],
      "execution_count": null,
      "outputs": [
        {
          "output_type": "execute_result",
          "data": {
            "text/plain": [
              "800970"
            ]
          },
          "metadata": {
            "tags": []
          },
          "execution_count": 7
        }
      ]
    },
    {
      "cell_type": "code",
      "metadata": {
        "id": "OgMuCpIz4sSx",
        "colab": {
          "base_uri": "https://localhost:8080/",
          "height": 68
        },
        "outputId": "cf20ee99-153f-441f-b37c-bc0257df9e6f"
      },
      "source": [
        "pd.Series(mask).value_counts()"
      ],
      "execution_count": null,
      "outputs": [
        {
          "output_type": "execute_result",
          "data": {
            "text/plain": [
              "True     491675\n",
              "False    309295\n",
              "dtype: int64"
            ]
          },
          "metadata": {
            "tags": []
          },
          "execution_count": 8
        }
      ]
    },
    {
      "cell_type": "code",
      "metadata": {
        "id": "zzO2imMO1llw"
      },
      "source": [
        "short_data = data.loc[mask]"
      ],
      "execution_count": null,
      "outputs": []
    },
    {
      "cell_type": "code",
      "metadata": {
        "id": "eM1xUqQS5Cr4",
        "colab": {
          "base_uri": "https://localhost:8080/",
          "height": 34
        },
        "outputId": "d9bc487c-5e3d-40a4-bdd7-dc08f440121f"
      },
      "source": [
        "len(short_data)"
      ],
      "execution_count": null,
      "outputs": [
        {
          "output_type": "execute_result",
          "data": {
            "text/plain": [
              "491675"
            ]
          },
          "metadata": {
            "tags": []
          },
          "execution_count": 10
        }
      ]
    },
    {
      "cell_type": "code",
      "metadata": {
        "id": "Je27L4lQ5J5I"
      },
      "source": [
        "short_data.to_csv(\"/content/drive/My Drive/RuBART/news-short.csv\", index=False)"
      ],
      "execution_count": null,
      "outputs": []
    },
    {
      "cell_type": "markdown",
      "metadata": {
        "id": "DNBN7Duy6gJW"
      },
      "source": [
        "Training BART model"
      ]
    },
    {
      "cell_type": "code",
      "metadata": {
        "id": "SsteV0LTwywp"
      },
      "source": [
        "from transformers import BartTokenizerFast\n",
        "tokenizer = BartTokenizerFast.from_pretrained(\"/content/drive/MyDrive/Infosystems/RuBART/RuBART-Lenta\")"
      ],
      "execution_count": 4,
      "outputs": []
    },
    {
      "cell_type": "code",
      "metadata": {
        "id": "7MUBN7ovNt7L",
        "colab": {
          "base_uri": "https://localhost:8080/"
        },
        "outputId": "fa929faa-69ec-42d4-b369-d63fb595c8e9"
      },
      "source": [
        "a = tokenizer(\"Съешь ещё этих мягких французских булочек\")\n",
        "for i in a.input_ids:\n",
        "    print(tokenizer.decode([i]))"
      ],
      "execution_count": 5,
      "outputs": [
        {
          "output_type": "stream",
          "text": [
            "<s>\n",
            "С\n",
            "ъ\n",
            "ешь\n",
            " ещё\n",
            " этих\n",
            " мягких\n",
            " французских\n",
            " бул\n",
            "очек\n",
            "</s>\n"
          ],
          "name": "stdout"
        }
      ]
    },
    {
      "cell_type": "code",
      "metadata": {
        "id": "q9JiZmnRwRI4"
      },
      "source": [
        "from transformers import AutoConfig, AutoModel\n",
        "config = AutoConfig.from_pretrained('facebook/bart-large', vocab_size=80000)\n",
        "model =  AutoModel.from_config(config)"
      ],
      "execution_count": 16,
      "outputs": []
    },
    {
      "cell_type": "code",
      "metadata": {
        "colab": {
          "base_uri": "https://localhost:8080/"
        },
        "id": "RbGAfMT5B0qz",
        "outputId": "ce71aadc-7fdd-4413-833c-3ac7be0b9fea"
      },
      "source": [
        "config"
      ],
      "execution_count": 17,
      "outputs": [
        {
          "output_type": "execute_result",
          "data": {
            "text/plain": [
              "BartConfig {\n",
              "  \"activation_dropout\": 0.1,\n",
              "  \"activation_function\": \"gelu\",\n",
              "  \"add_bias_logits\": false,\n",
              "  \"add_final_layer_norm\": false,\n",
              "  \"architectures\": [\n",
              "    \"BartModel\",\n",
              "    \"BartForConditionalGeneration\",\n",
              "    \"BartForSequenceClassification\"\n",
              "  ],\n",
              "  \"attention_dropout\": 0.1,\n",
              "  \"bos_token_id\": 0,\n",
              "  \"classif_dropout\": 0.1,\n",
              "  \"classifier_dropout\": 0.0,\n",
              "  \"d_model\": 1024,\n",
              "  \"decoder_attention_heads\": 16,\n",
              "  \"decoder_ffn_dim\": 4096,\n",
              "  \"decoder_layerdrop\": 0.0,\n",
              "  \"decoder_layers\": 12,\n",
              "  \"decoder_start_token_id\": 2,\n",
              "  \"dropout\": 0.1,\n",
              "  \"early_stopping\": true,\n",
              "  \"encoder_attention_heads\": 16,\n",
              "  \"encoder_ffn_dim\": 4096,\n",
              "  \"encoder_layerdrop\": 0.0,\n",
              "  \"encoder_layers\": 12,\n",
              "  \"eos_token_id\": 2,\n",
              "  \"force_bos_token_to_be_generated\": false,\n",
              "  \"gradient_checkpointing\": false,\n",
              "  \"id2label\": {\n",
              "    \"0\": \"LABEL_0\",\n",
              "    \"1\": \"LABEL_1\",\n",
              "    \"2\": \"LABEL_2\"\n",
              "  },\n",
              "  \"init_std\": 0.02,\n",
              "  \"is_encoder_decoder\": true,\n",
              "  \"label2id\": {\n",
              "    \"LABEL_0\": 0,\n",
              "    \"LABEL_1\": 1,\n",
              "    \"LABEL_2\": 2\n",
              "  },\n",
              "  \"max_position_embeddings\": 1024,\n",
              "  \"model_type\": \"bart\",\n",
              "  \"no_repeat_ngram_size\": 3,\n",
              "  \"normalize_before\": false,\n",
              "  \"num_beams\": 4,\n",
              "  \"num_hidden_layers\": 12,\n",
              "  \"pad_token_id\": 1,\n",
              "  \"scale_embedding\": false,\n",
              "  \"task_specific_params\": {\n",
              "    \"summarization\": {\n",
              "      \"length_penalty\": 1.0,\n",
              "      \"max_length\": 128,\n",
              "      \"min_length\": 12,\n",
              "      \"num_beams\": 4\n",
              "    },\n",
              "    \"summarization_cnn\": {\n",
              "      \"length_penalty\": 2.0,\n",
              "      \"max_length\": 142,\n",
              "      \"min_length\": 56,\n",
              "      \"num_beams\": 4\n",
              "    },\n",
              "    \"summarization_xsum\": {\n",
              "      \"length_penalty\": 1.0,\n",
              "      \"max_length\": 62,\n",
              "      \"min_length\": 11,\n",
              "      \"num_beams\": 6\n",
              "    }\n",
              "  },\n",
              "  \"transformers_version\": \"4.3.3\",\n",
              "  \"use_cache\": true,\n",
              "  \"vocab_size\": 80000\n",
              "}"
            ]
          },
          "metadata": {
            "tags": []
          },
          "execution_count": 17
        }
      ]
    },
    {
      "cell_type": "code",
      "metadata": {
        "colab": {
          "base_uri": "https://localhost:8080/"
        },
        "id": "MYFCRupYCl__",
        "outputId": "cffa3f3b-38d2-44af-c35c-9ff38aceaccd"
      },
      "source": [
        "model.num_parameters()"
      ],
      "execution_count": 14,
      "outputs": [
        {
          "output_type": "execute_result",
          "data": {
            "text/plain": [
              "406291456"
            ]
          },
          "metadata": {
            "tags": []
          },
          "execution_count": 14
        }
      ]
    },
    {
      "cell_type": "code",
      "metadata": {
        "id": "zd0zSwD_Dl0D"
      },
      "source": [
        "%%time\r\n",
        "from transformers import LineByLineTextDataset\r\n",
        "\r\n",
        "dataset = LineByLineTextDataset(\r\n",
        "    tokenizer=tokenizer,\r\n",
        "    file_path=\"\",\r\n",
        "    block_size=128,\r\n",
        ")\r\n"
      ],
      "execution_count": null,
      "outputs": []
    },
    {
      "cell_type": "code",
      "metadata": {
        "id": "zAm1p1OxEuqk"
      },
      "source": [
        "from transformers import DataCollatorForLanguageModeling\r\n",
        "\r\n",
        "data_collator = DataCollatorForLanguageModeling(\r\n",
        "    tokenizer=tokenizer, mlm=True, mlm_probability=0.15\r\n",
        ")"
      ],
      "execution_count": null,
      "outputs": []
    },
    {
      "cell_type": "code",
      "metadata": {
        "id": "XWDLX0nyE4SK"
      },
      "source": [
        "from transformers import Trainer, TrainingArguments\r\n",
        "\r\n",
        "training_args = TrainingArguments(\r\n",
        "    output_dir=\"./RuBART\",\r\n",
        "    overwrite_output_dir=True,\r\n",
        "    num_train_epochs=1,\r\n",
        "    per_gpu_train_batch_size=64,\r\n",
        "    save_steps=10_000,\r\n",
        "    save_total_limit=2,\r\n",
        "    prediction_loss_only=True,\r\n",
        ")\r\n",
        "\r\n",
        "trainer = Trainer(\r\n",
        "    model=model,\r\n",
        "    args=training_args,\r\n",
        "    data_collator=data_collator,\r\n",
        "    train_dataset=dataset,\r\n",
        ")"
      ],
      "execution_count": null,
      "outputs": []
    },
    {
      "cell_type": "code",
      "metadata": {
        "id": "3T7n8TDCE4Z7"
      },
      "source": [
        "%%time\r\n",
        "trainer.train()"
      ],
      "execution_count": null,
      "outputs": []
    },
    {
      "cell_type": "code",
      "metadata": {
        "id": "p7MJHcXGE4cS"
      },
      "source": [
        "trainer.save_model(\"./RuBART\")"
      ],
      "execution_count": null,
      "outputs": []
    },
    {
      "cell_type": "code",
      "metadata": {
        "id": "2LokXHmdE4eg"
      },
      "source": [
        "from transformers import pipeline\r\n",
        "\r\n",
        "fill_mask = pipeline(\r\n",
        "    \"fill-mask\",\r\n",
        "    model=\"./RuBART\",\r\n",
        "    tokenizer=\"./RuBART\"\r\n",
        ")"
      ],
      "execution_count": null,
      "outputs": []
    },
    {
      "cell_type": "code",
      "metadata": {
        "id": "7nTd9_GXFBAA"
      },
      "source": [
        "fill_mask(\"\")"
      ],
      "execution_count": null,
      "outputs": []
    },
    {
      "cell_type": "code",
      "metadata": {
        "id": "vxAbE-fLFBIk"
      },
      "source": [
        ""
      ],
      "execution_count": null,
      "outputs": []
    },
    {
      "cell_type": "code",
      "metadata": {
        "id": "8UsRgZ7UxNHo"
      },
      "source": [
        "from transformers import BartForConditionalGeneration\n",
        "\n",
        "config = BartConfig.from_json_file()\n",
        "model = BartForConditionalGeneration(config=config)"
      ],
      "execution_count": null,
      "outputs": []
    },
    {
      "cell_type": "code",
      "metadata": {
        "id": "XE2ncjDjxnu_"
      },
      "source": [
        "inputs = tokenizer.batch_encode_plus([article_text], max_length=1024, return_tensors='pt')\n",
        "\n",
        "pp = pprint.PrettyPrinter(indent=0, width=100)\n",
        "\n",
        "# Generate Summary\n",
        "summary_ids = model.generate(inputs['input_ids'], num_beams=4, max_length=100, early_stopping=False)\n",
        "\n",
        "for g in summary_ids:\n",
        "    sum = tokenizer.decode(g, skip_special_tokens=True, clean_up_tokenization_spaces=False)\n",
        "    sum = pp.pformat(sum)\n",
        "    sum = re.sub(\"'\", \"\", sum)\n",
        "    sum = re.sub(\"\\(\", \"\", sum)\n",
        "    sum = re.sub(\"\\)\", \"\", sum)\n",
        "    \n",
        "    print(sum)"
      ],
      "execution_count": null,
      "outputs": []
    },
    {
      "cell_type": "markdown",
      "metadata": {
        "id": "vtVA1quTnhe9"
      },
      "source": [
        "Cheking model"
      ]
    },
    {
      "cell_type": "code",
      "metadata": {
        "id": "Kvjb82cax68O"
      },
      "source": [
        "from transformers import pipeline\n",
        "\n",
        "summarizer = pipeline(\n",
        "    \"summarization\",\n",
        "    model=\"/content/drive/My Drive/RuBART/RuBART-Lenta\",\n",
        "    tokenizer=\"/content/drive/My Drive/RuBART/RuBART-Lenta\",\n",
        ")"
      ],
      "execution_count": null,
      "outputs": []
    },
    {
      "cell_type": "code",
      "metadata": {
        "id": "yLefVw9Px804"
      },
      "source": [
        "summarizer(\"\"\"ЦИК обработал 100% протоколов. Против поправок выступили 21,27% россиян. \n",
        "Поправки к Конституции РФ на общероссийском голосовании поддержали 77,92% проголосовавших, следует из данных Центральной избирательной комиссии (ЦИК) РФ по итогам обработки 100% протоколов.\n",
        "Согласно данным, опубликованным на экране в информационном центре ЦИК, против поправок к конституции выступили 21,27% проголосовавших. \n",
        "Общая явка, по последним данным, составила 65%.\n",
        "Общероссийское голосование по поправкам к Конституции РФ завершилось на всей территории России в 21:00 мск в среду. \n",
        "\"\"\")"
      ],
      "execution_count": null,
      "outputs": []
    }
  ]
}